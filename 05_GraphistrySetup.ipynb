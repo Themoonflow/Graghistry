{
 "cells": [
  {
   "cell_type": "code",
   "execution_count": 1,
   "id": "19fec6d3",
   "metadata": {},
   "outputs": [],
   "source": [
    "# Install Graphistry\n",
    "#! pip install --user graphistry"
   ]
  },
  {
   "cell_type": "code",
   "execution_count": 5,
   "id": "bbb80f78",
   "metadata": {},
   "outputs": [
    {
     "name": "stdout",
     "output_type": "stream",
     "text": [
      "0.28.7\n"
     ]
    }
   ],
   "source": [
    "import graphistry\n",
    "print(graphistry.__version__)"
   ]
  },
  {
   "cell_type": "code",
   "execution_count": 6,
   "id": "3c04b732",
   "metadata": {},
   "outputs": [],
   "source": [
    "graphistry.register(api=3, protocol=\"https\", server=\"hub.graphistry.com\", username=\"Themoonflow\", password=\"Love345@g\")"
   ]
  },
  {
   "cell_type": "code",
   "execution_count": null,
   "id": "a035b3d9",
   "metadata": {},
   "outputs": [],
   "source": []
  }
 ],
 "metadata": {
  "kernelspec": {
   "display_name": "Python 3",
   "language": "python",
   "name": "python3"
  },
  "language_info": {
   "codemirror_mode": {
    "name": "ipython",
    "version": 3
   },
   "file_extension": ".py",
   "mimetype": "text/x-python",
   "name": "python",
   "nbconvert_exporter": "python",
   "pygments_lexer": "ipython3",
   "version": "3.8.3"
  }
 },
 "nbformat": 4,
 "nbformat_minor": 5
}
